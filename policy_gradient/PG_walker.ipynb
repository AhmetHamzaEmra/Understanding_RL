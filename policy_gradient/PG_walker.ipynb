{
 "cells": [
  {
   "cell_type": "code",
   "execution_count": 1,
   "metadata": {},
   "outputs": [
    {
     "name": "stderr",
     "output_type": "stream",
     "text": [
      "/Library/Frameworks/Python.framework/Versions/3.6/lib/python3.6/site-packages/h5py/__init__.py:36: FutureWarning: Conversion of the second argument of issubdtype from `float` to `np.floating` is deprecated. In future, it will be treated as `np.float64 == np.dtype(float).type`.\n",
      "  from ._conv import register_converters as _register_converters\n"
     ]
    }
   ],
   "source": [
    "import gym\n",
    "import os\n",
    "import numpy as np\n",
    "import tensorflow as tf\n",
    "from itertools import product\n",
    "import matplotlib.pyplot as plt\n",
    "%matplotlib inline "
   ]
  },
  {
   "cell_type": "code",
   "execution_count": 2,
   "metadata": {},
   "outputs": [
    {
     "name": "stdout",
     "output_type": "stream",
     "text": [
      "\u001b[33mWARN: gym.spaces.Box autodetected dtype as <class 'numpy.float32'>. Please provide explicit dtype.\u001b[0m\n",
      "\u001b[33mWARN: gym.spaces.Box autodetected dtype as <class 'numpy.float32'>. Please provide explicit dtype.\u001b[0m\n"
     ]
    }
   ],
   "source": [
    "env = gym.make('BipedalWalkerHardcore-v2')\n",
    "obs = env.reset()"
   ]
  },
  {
   "cell_type": "code",
   "execution_count": 3,
   "metadata": {},
   "outputs": [
    {
     "data": {
      "text/plain": [
       "array([ 2.74583930e-03,  1.04752497e-05, -1.36591885e-03, -1.60000670e-02,\n",
       "        9.24866349e-02,  3.17089702e-03,  8.59792963e-01, -1.11846168e-03,\n",
       "        1.00000000e+00,  3.28033380e-02,  3.17077059e-03,  8.53535444e-01,\n",
       "       -2.15749846e-03,  1.00000000e+00,  4.40813392e-01,  4.45819497e-01,\n",
       "        4.61422116e-01,  4.89549488e-01,  5.34102023e-01,  6.02460206e-01,\n",
       "        7.09147871e-01,  8.85930538e-01,  1.00000000e+00,  1.00000000e+00])"
      ]
     },
     "execution_count": 3,
     "metadata": {},
     "output_type": "execute_result"
    }
   ],
   "source": [
    "obs"
   ]
  },
  {
   "cell_type": "code",
   "execution_count": 4,
   "metadata": {},
   "outputs": [
    {
     "data": {
      "text/plain": [
       "(625, 4)"
      ]
     },
     "execution_count": 4,
     "metadata": {},
     "output_type": "execute_result"
    }
   ],
   "source": [
    "possible_torques = np.array([-1.0,-0.5, 0.0, 0.5, 1.0])\n",
    "possible_actions = np.array(list(product(possible_torques, possible_torques, possible_torques, possible_torques)))\n",
    "possible_actions.shape"
   ]
  },
  {
   "cell_type": "code",
   "execution_count": 5,
   "metadata": {},
   "outputs": [],
   "source": [
    "tf.reset_default_graph()\n",
    "\n",
    "# 1. Specify the network architecture\n",
    "n_inputs = env.observation_space.shape[0]  # == 24\n",
    "n_hidden = 16\n",
    "n_outputs = len(possible_actions) # == 81\n",
    "initializer = tf.variance_scaling_initializer()\n",
    "\n",
    "# 2. Build the neural network\n",
    "X = tf.placeholder(tf.float32, shape=[None, n_inputs])\n",
    "\n",
    "hidden = tf.layers.dense(X, n_hidden, activation=tf.nn.selu, kernel_initializer=initializer)\n",
    "hidden = tf.layers.dense(hidden, n_hidden, activation=tf.nn.selu, kernel_initializer=initializer)\n",
    "hidden = tf.layers.dense(hidden, n_hidden, activation=tf.nn.selu, kernel_initializer=initializer)\n",
    "logits = tf.layers.dense(hidden, n_outputs, kernel_initializer=initializer)\n",
    "outputs = tf.nn.softmax(logits)\n",
    "\n",
    "# 3. Select a random action based on the estimated probabilities\n",
    "action_index = tf.squeeze(tf.multinomial(logits, num_samples=1), axis=-1)\n",
    "\n",
    "# 4. Training\n",
    "learning_rate = 0.001\n",
    "\n",
    "y = tf.one_hot(action_index, depth=len(possible_actions))\n",
    "cross_entropy = tf.nn.softmax_cross_entropy_with_logits_v2(labels=y, logits=logits)\n",
    "optimizer = tf.train.AdamOptimizer(learning_rate)\n",
    "grads_and_vars = optimizer.compute_gradients(cross_entropy)\n",
    "gradients = [grad for grad, variable in grads_and_vars]\n",
    "gradient_placeholders = []\n",
    "grads_and_vars_feed = []\n",
    "for grad, variable in grads_and_vars:\n",
    "    gradient_placeholder = tf.placeholder(tf.float32, shape=grad.get_shape())\n",
    "    gradient_placeholders.append(gradient_placeholder)\n",
    "    grads_and_vars_feed.append((gradient_placeholder, variable))\n",
    "training_op = optimizer.apply_gradients(grads_and_vars_feed)\n",
    "\n",
    "init = tf.global_variables_initializer()\n",
    "saver = tf.train.Saver()"
   ]
  },
  {
   "cell_type": "code",
   "execution_count": 6,
   "metadata": {},
   "outputs": [],
   "source": [
    "def discount_rewards(rewards, discount_rate):\n",
    "    discounted_rewards = np.zeros(len(rewards))\n",
    "    cumulative_rewards = 0\n",
    "    for step in reversed(range(len(rewards))):\n",
    "        cumulative_rewards = rewards[step] + cumulative_rewards * discount_rate\n",
    "        discounted_rewards[step] = cumulative_rewards\n",
    "    return discounted_rewards\n",
    "\n",
    "def discount_and_normalize_rewards(all_rewards, discount_rate):\n",
    "    all_discounted_rewards = [discount_rewards(rewards, discount_rate) for rewards in all_rewards]\n",
    "    flat_rewards = np.concatenate(all_discounted_rewards)\n",
    "    reward_mean = flat_rewards.mean()\n",
    "    reward_std = flat_rewards.std()\n",
    "    return [(discounted_rewards - reward_mean)/reward_std for discounted_rewards in all_discounted_rewards]"
   ]
  },
  {
   "cell_type": "code",
   "execution_count": null,
   "metadata": {},
   "outputs": [
    {
     "name": "stdout",
     "output_type": "stream",
     "text": [
      "Iteration: 28341/50000, Mean score: -99.91848103405408, Best ME: -98.96198488662299"
     ]
    }
   ],
   "source": [
    "n_games_per_update = 1\n",
    "n_max_steps = 1000\n",
    "n_iterations = 50000\n",
    "save_iterations = 10\n",
    "discount_rate = 0.99\n",
    "highest_me = -220\n",
    "total_rewards =[]\n",
    "mean_scores = [] \n",
    "me = -300\n",
    "with tf.Session() as sess:\n",
    "    init.run()\n",
    "#     saver.restore(sess, \"./models/my_bipedal_walker_pg.ckpt\")\n",
    "    for iteration in range(n_iterations):\n",
    "        if len(mean_scores)>=100:\n",
    "            me =  (sum(mean_scores[-100:])/100)\n",
    "            print(\"\\rIteration: {}/{}, Mean score: {}, Best ME: {}\".format(iteration + 1, n_iterations, me, highest_me), end=\"\")\n",
    "        else:\n",
    "            print(\"\\rIteration: {}/{}\".format(iteration + 1, n_iterations), end=\"\")\n",
    "        all_rewards = []\n",
    "        all_gradients = []\n",
    "        mean_scores = mean_scores[-101:]\n",
    "        for game in range(n_games_per_update):\n",
    "            current_rewards = []\n",
    "            current_gradients = []\n",
    "            obs = env.reset()\n",
    "            score = 0\n",
    "            for step in range(n_max_steps):\n",
    "                action_index_val, gradients_val = sess.run([action_index, gradients],\n",
    "                                                           feed_dict={X: obs.reshape(1, 24)})\n",
    "                \n",
    "                action = possible_actions[action_index_val]\n",
    "                obs, reward, done, info = env.step(action[0])\n",
    "                score+=reward\n",
    "                current_rewards.append(reward)\n",
    "                current_gradients.append(gradients_val)\n",
    "                if done:\n",
    "                    break\n",
    "            all_rewards.append(current_rewards)\n",
    "            all_gradients.append(current_gradients)\n",
    "            mean_scores.append(score)\n",
    "            \n",
    "        all_rewards = discount_and_normalize_rewards(all_rewards, discount_rate=discount_rate)\n",
    "        feed_dict = {}\n",
    "        for var_index, gradient_placeholder in enumerate(gradient_placeholders):\n",
    "            mean_gradients = np.mean([reward * all_gradients[game_index][step][var_index]\n",
    "                                      for game_index, rewards in enumerate(all_rewards)\n",
    "                                          for step, reward in enumerate(rewards)], axis=0)\n",
    "            feed_dict[gradient_placeholder] = mean_gradients\n",
    "        sess.run(training_op, feed_dict=feed_dict)\n",
    "        if iteration % save_iterations == 0:\n",
    "            saver.save(sess, \"./models/my_bipedal_walker_pg.ckpt\")\n",
    "        if highest_me < me:\n",
    "            highest_me = me\n",
    "            saver.save(sess, \"./models/best_walker.ckpt\")"
   ]
  },
  {
   "cell_type": "code",
   "execution_count": null,
   "metadata": {},
   "outputs": [],
   "source": []
  }
 ],
 "metadata": {
  "kernelspec": {
   "display_name": "Python 3",
   "language": "python",
   "name": "python3"
  },
  "language_info": {
   "codemirror_mode": {
    "name": "ipython",
    "version": 3
   },
   "file_extension": ".py",
   "mimetype": "text/x-python",
   "name": "python",
   "nbconvert_exporter": "python",
   "pygments_lexer": "ipython3",
   "version": "3.6.4"
  }
 },
 "nbformat": 4,
 "nbformat_minor": 2
}
